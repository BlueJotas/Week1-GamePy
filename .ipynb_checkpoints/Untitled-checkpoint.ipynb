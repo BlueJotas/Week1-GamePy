{
 "cells": [
  {
   "cell_type": "code",
   "execution_count": 1,
   "metadata": {},
   "outputs": [
    {
     "name": "stdout",
     "output_type": "stream",
     "text": [
      "Type a message to encode: Hello World\n",
      "Type a keyword: 1a2s3d\n",
      "Original message: HELLOWORLD\n",
      "Keyword: 1A2S3D\n",
      "\n",
      "Encrypting...\n",
      "Encrypted message: GEKDNZNRKV\n",
      "\n",
      "Decrypting...\n",
      "Decrypted message: HELLOWORLD\n"
     ]
    },
    {
     "ename": "SystemExit",
     "evalue": "0",
     "output_type": "error",
     "traceback": [
      "An exception has occurred, use %tb to see the full traceback.\n",
      "\u001b[0;31mSystemExit\u001b[0m\u001b[0;31m:\u001b[0m 0\n"
     ]
    },
    {
     "name": "stderr",
     "output_type": "stream",
     "text": [
      "/usr/local/lib/python3.8/site-packages/IPython/core/interactiveshell.py:3425: UserWarning: To exit: use 'exit', 'quit', or Ctrl-D.\n",
      "  warn(\"To exit: use 'exit', 'quit', or Ctrl-D.\", stacklevel=1)\n"
     ]
    }
   ],
   "source": [
    "import sys\n",
    "\n",
    "abc = 'ABCDEFGHIJKLMNOPQRSTUVWXYZ'\n",
    "message = str(input(\"Type a message to encode: \"))\n",
    "message = message.replace(' ', '').upper()\t # This stores the input message altogether (upper case)\n",
    "original_key = str(input(\"Type a keyword: \"))\n",
    "original_key = original_key.replace(' ', '').upper()  # This stores the key altogether and also in upper case\n",
    "key = ''\n",
    "cipher = ''\n",
    "decrypt = ''\n",
    "\n",
    "if len(message) > len(original_key):\t# If the lenght of the message is longer than the original key...\n",
    "\tfor i in range(int(len(message) / len(original_key))):\t# The key gets longer until the message is the same lenght\n",
    "\t\tkey += original_key\n",
    "\tkey += original_key[:len(message) % len(original_key)]\n",
    "\n",
    "elif len(message) < len(original_key):\t# If the lenght of the message is shorter than the lenght of the original key...\n",
    "\tkey = original_key[:len(message)]\t# Same process but this time the key gets shoter\n",
    "\n",
    "elif len(message) == len(original_key):\t # If both are the same lenght...\n",
    "\tkey = original_key\t# The key is stored here\n",
    "\n",
    "else:\n",
    "\tprint('Unexpected error. Ending program')\n",
    "\tsys.exit(1)\n",
    "\n",
    "\n",
    "print('Original message: ' + message)\n",
    "print('Keyword: ' + original_key)\n",
    "print()\n",
    "\n",
    "\n",
    "print('Encrypting...')\n",
    "for i in range(len(message)):\n",
    "\tx = abc.find(message[i])\t# The position of the character is stored after being found in the dictionary\n",
    "\ty = abc.find(key[i])\t# Same process with the key\n",
    "\tsum = x + y\t # We calculate the sum of both positions\n",
    "\tmodule = sum % len(abc)\t # We calculate the modulus of the sum divided by the lenght of the abecedary\n",
    "\tcipher += abc[module]\t# We sum that to the cipher variable\n",
    "\n",
    "print('Encrypted message: ' + cipher)\n",
    "print()\n",
    "\n",
    "\n",
    "print('Decrypting...')\n",
    "for i in range(len(cipher)):\n",
    "\tx = abc.find(cipher[i])\n",
    "\ty = abc.find(key[i])\n",
    "\tminus = x - y\n",
    "\tmodule = minus % len(abc)\n",
    "\tdecrypt += abc[module]\n",
    "\n",
    "print('Decrypted message: ' + decrypt)\n",
    "\n",
    "sys.exit(0)"
   ]
  }
 ],
 "metadata": {
  "kernelspec": {
   "display_name": "Python 3",
   "language": "python",
   "name": "python3"
  },
  "language_info": {
   "codemirror_mode": {
    "name": "ipython",
    "version": 3
   },
   "file_extension": ".py",
   "mimetype": "text/x-python",
   "name": "python",
   "nbconvert_exporter": "python",
   "pygments_lexer": "ipython3",
   "version": "3.8.5"
  }
 },
 "nbformat": 4,
 "nbformat_minor": 4
}
